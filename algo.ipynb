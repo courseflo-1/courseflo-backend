{
 "cells": [
  {
   "cell_type": "code",
   "execution_count": 77,
   "metadata": {},
   "outputs": [],
   "source": [
    "courses = [{'id': 727, 'full_name': 'New Student Seminar', 'abbr_name': 'EECS 101', 'credits': 1, 'semester': ['fall'], 'school': 1, 'prerequisite_ids': None, 'corequisite': None},\n",
    "           {'id': 1494, 'full_name': 'Calculus I', 'abbr_name': 'MATH 125', 'credits': 4,\n",
    "               'semester': None, 'school': 1, 'prerequisite_ids': None, 'corequisite': None},\n",
    "           {'id': 1495, 'full_name': 'Calculus II', 'abbr_name': 'MATH 126', 'credits': 4,\n",
    "               'semester': None, 'school': 1, 'prerequisite_ids': [1494], 'corequisite': None},\n",
    "           {'id': 1496, 'full_name': 'Calculus III', 'abbr_name': 'MATH 127', 'credits': 4,\n",
    "               'semester': None, 'school': 1, 'prerequisite_ids': [1495], 'corequisite': None},\n",
    "           {'id': 729, 'full_name': 'Introd to Digital Logic Design', 'abbr_name': 'EECS 140',\n",
    "               'credits': 4, 'semester': None, 'school': 1, 'prerequisite_ids': None, 'corequisite': None},\n",
    "           {'id': 1, 'name': 'GE3H', 'class_ids': [233, 132, 20], 'level': 150}, {\n",
    "               'id': 5, 'name': 'GE2.1', 'class_ids': [164, 425], 'level': 150},\n",
    "           {'id': 5, 'name': 'GE2.1', 'class_ids': [164, 425], 'level': 150}, {\n",
    "               'id': 8, 'name': 'GE2.2', 'class_ids': [606, 607, 1138], 'level': 150},\n",
    "           {'id': 11, 'name': 'GE3S', 'class_ids': [1667, 1464, 1334], 'level': 150}, {\n",
    "               'id': 12, 'name': 'GE4.1', 'class_ids': [134, 23, 256, 629], 'level': 150},\n",
    "           {'id': 13, 'name': 'GE4.2', 'class_ids': [\n",
    "               14, 322, 321], 'level': 150},\n",
    "           {'id': 731, 'full_name': 'Programming I', 'abbr_name': 'EECS 168', 'credits': 4,\n",
    "               'semester': None, 'school': 1, 'prerequisite_ids': None, 'corequisite': None},\n",
    "           {'id': 734, 'full_name': 'Discrete Structures', 'abbr_name': 'EECS 210', 'credits': 4,\n",
    "               'semester': None, 'school': 1, 'prerequisite_ids': [731, 729, 1495], 'corequisite': None},\n",
    "           {'id': 1844, 'full_name': 'Generl Physics I for Engineers', 'abbr_name': 'PHSX 210',\n",
    "               'credits': 3, 'semester': None, 'school': 1, 'prerequisite_ids': None, 'corequisite': None},\n",
    "           {'id': 1848, 'full_name': 'General Physics I Laboratory', 'abbr_name': 'PHSX 216',\n",
    "               'credits': 1, 'semester': None, 'school': 1, 'prerequisite_ids': None, 'corequisite': None},\n",
    "           {'id': 17, 'name': 'Professional Electives',\n",
    "               'class_ids': [743, 746, 757, 762, 773], 'level': 250},\n",
    "           {'id': 17, 'name': 'Professional Electives',\n",
    "               'class_ids': [743, 746, 757, 762, 773], 'level': 250},\n",
    "           {'id': 737, 'full_name': 'Programming II', 'abbr_name': 'EECS 268', 'credits': 4,\n",
    "               'semester': None, 'school': 1, 'prerequisite_ids': [731], 'corequisite': None},\n",
    "           {'id': 1504, 'full_name': 'Elementary Linear Algebra', 'abbr_name': 'MATH 290', 'credits': 2,\n",
    "               'semester': None, 'school': 1, 'prerequisite_ids': None, 'corequisite': None},\n",
    "           {'id': 739, 'full_name': 'Data Structures and Algorithms', 'abbr_name': 'EECS 330', 'credits': 4,\n",
    "               'semester': None, 'school': 1, 'prerequisite_ids': [734, 737], 'corequisite': None},\n",
    "           {'id': 740, 'full_name': 'Software Engineering I', 'abbr_name': 'EECS 348', 'credits': 4,\n",
    "               'semester': None, 'school': 1, 'prerequisite_ids': [737], 'corequisite': None},\n",
    "           {'id': 742, 'full_name': 'Embedded Systems', 'abbr_name': 'EECS 388', 'credits': 4,\n",
    "               'semester': None, 'school': 1, 'prerequisite_ids': [729, 731], 'corequisite': None},\n",
    "           {'id': 2, 'name': 'CS Senior Electives Group 1',\n",
    "               'class_ids': [746, 761, 766, 769], 'level': 400},\n",
    "           {'id': 2, 'name': 'CS Senior Electives Group 1', 'class_ids': [746, 761, 766, 769], 'level': 400}, {\n",
    "               'id': 3, 'name': 'CS Senior Electives Group 2', 'class_ids': [758, 768], 'level': 450},\n",
    "           {'id': 3, 'name': 'CS Senior Electives Group 2',\n",
    "               'class_ids': [758, 768], 'level': 450},\n",
    "           {'id': 745, 'full_name': 'Probability and Statistics', 'abbr_name': 'EECS 461', 'credits': 3,\n",
    "               'semester': None, 'school': 1, 'prerequisite_ids': None, 'corequisite': None},\n",
    "           {'id': 747, 'full_name': 'Programming Paradigms', 'abbr_name': 'EECS 468', 'credits': 3,\n",
    "               'semester': None, 'school': 1, 'prerequisite_ids': [737], 'corequisite': None},\n",
    "           {'id': 4, 'name': 'CS Senior Electives Group 3', 'class_ids': [762, 773], 'level': 500}, {\n",
    "               'id': 4, 'name': 'CS Senior Electives Group 3', 'class_ids': [762, 773], 'level': 500},\n",
    "           {'id': 751, 'full_name': 'Introdn to Theory of Computing', 'abbr_name': 'EECS 510',\n",
    "               'credits': 3, 'semester': None, 'school': 1, 'prerequisite_ids': [734], 'corequisite': None},\n",
    "           {'id': 755, 'full_name': 'Intr to Communication Networks', 'abbr_name': 'EECS 563', 'credits': 3,\n",
    "               'semester': None, 'school': 1, 'prerequisite_ids': [731, 745], 'corequisite': None},\n",
    "           {'id': 756, 'full_name': 'Intro Informatn&Cmptr Security', 'abbr_name': 'EECS 565',\n",
    "               'credits': 3, 'semester': None, 'school': 1, 'prerequisite_ids': None, 'corequisite': [771]},\n",
    "           {'id': 759, 'full_name': 'Software Engineering II', 'abbr_name': 'EECS 581', 'credits': 3,\n",
    "               'semester': ['fall'], 'school': 1, 'prerequisite_ids': [740, 739, 747], 'corequisite': [756]},\n",
    "           {'id': 2722, 'full_name': 'Cmptr Sci&Intrdspnry Cmpt Cpst', 'abbr_name': 'EECS 582', 'credits': 3,\n",
    "               'semester': ['spring'], 'school': 1, 'prerequisite_ids': [759], 'corequisite': None},\n",
    "           {'id': 765, 'full_name': 'Computer Architecture', 'abbr_name': 'EECS 645', 'credits': 3,\n",
    "               'semester': None, 'school': 1, 'prerequisite_ids': [742], 'corequisite': None},\n",
    "           {'id': 771, 'full_name': 'Introdctn to Operating Systems', 'abbr_name': 'EECS 678', 'credits': 4, 'semester': None, 'school': 1, 'prerequisite_ids': [740, 742], 'corequisite': None}]\n"
   ]
  },
  {
   "cell_type": "code",
   "execution_count": 78,
   "metadata": {},
   "outputs": [],
   "source": [
    "def corequisites_satisfied(course: dict, current_classes: list, previous_classes: list) -> bool:\n",
    "    print(course['corequisite'])\n",
    "    if not course['corequisite']:\n",
    "        return True\n",
    "    return all(x in current_classes or x in previous_classes for x in course['corequisite'])\n",
    "\n",
    "def prerequisites_satisfied(course: dict, passed_classes: list, current_classes: list) -> bool:\n",
    "\n",
    "    if not course['prerequisite_ids']:\n",
    "        course['prerequisite_ids'] = []\n",
    "\n",
    "    if len(course['prerequisite_ids']) == 0:\n",
    "        return True\n",
    "\n",
    "    return all(x in passed_classes for x in course['prerequisite_ids'])"
   ]
  },
  {
   "cell_type": "code",
   "execution_count": 79,
   "metadata": {},
   "outputs": [],
   "source": [
    "def course_valid(course: dict, semesters: list, target_semester: int):\n",
    "    prev_classes = semesters[:target_semester]"
   ]
  },
  {
   "cell_type": "code",
   "execution_count": 80,
   "metadata": {},
   "outputs": [],
   "source": [
    "def get_semester_credits(semesters: list, semester: int) -> int:\n",
    "    total = 0\n",
    "    for x in semesters[semester]:\n",
    "        if 'credits' in x:\n",
    "            total += x['credits']\n",
    "        else:\n",
    "            total += 3\n",
    "    return total"
   ]
  },
  {
   "cell_type": "code",
   "execution_count": null,
   "metadata": {},
   "outputs": [],
   "source": []
  },
  {
   "cell_type": "code",
   "execution_count": 81,
   "metadata": {},
   "outputs": [],
   "source": [
    "def get_schedule(classes):\n",
    "    semesters = [[]] * 8\n",
    "    credits_per_semester = [0] * 8\n",
    "    \n",
    "    semesters[0] = classes\n",
    "    \n",
    "    print(get_semester_credits(semesters,0))\n",
    "    \n",
    "    for i in semesters[0][::-1]:\n",
    "        # print(i)\n",
    "        if get_semester_credits(semesters,0) > 17 or not course_valid(i, semesters, 0):\n",
    "            semesters[0].remove(i)\n",
    "            semesters[1].append(i)\n",
    "            \n",
    "    return semesters\n",
    "            "
   ]
  },
  {
   "cell_type": "code",
   "execution_count": 82,
   "metadata": {},
   "outputs": [
    {
     "name": "stdout",
     "output_type": "stream",
     "text": [
      "120\n",
      "0 New Student Seminar\n",
      "0 Calculus I\n",
      "0 Calculus II\n",
      "0 Calculus III\n",
      "0 Introd to Digital Logic Design\n",
      "1 Introdctn to Operating Systems\n",
      "1 Computer Architecture\n",
      "1 Cmptr Sci&Intrdspnry Cmpt Cpst\n",
      "1 Software Engineering II\n",
      "1 Intro Informatn&Cmptr Security\n",
      "2 Introdctn to Operating Systems\n",
      "2 Computer Architecture\n",
      "2 Cmptr Sci&Intrdspnry Cmpt Cpst\n",
      "2 Software Engineering II\n",
      "2 Intro Informatn&Cmptr Security\n",
      "3 Introdctn to Operating Systems\n",
      "3 Computer Architecture\n",
      "3 Cmptr Sci&Intrdspnry Cmpt Cpst\n",
      "3 Software Engineering II\n",
      "3 Intro Informatn&Cmptr Security\n",
      "4 Introdctn to Operating Systems\n",
      "4 Computer Architecture\n",
      "4 Cmptr Sci&Intrdspnry Cmpt Cpst\n",
      "4 Software Engineering II\n",
      "4 Intro Informatn&Cmptr Security\n",
      "5 Introdctn to Operating Systems\n",
      "5 Computer Architecture\n",
      "5 Cmptr Sci&Intrdspnry Cmpt Cpst\n",
      "5 Software Engineering II\n",
      "5 Intro Informatn&Cmptr Security\n",
      "6 Introdctn to Operating Systems\n",
      "6 Computer Architecture\n",
      "6 Cmptr Sci&Intrdspnry Cmpt Cpst\n",
      "6 Software Engineering II\n",
      "6 Intro Informatn&Cmptr Security\n",
      "7 Introdctn to Operating Systems\n",
      "7 Computer Architecture\n",
      "7 Cmptr Sci&Intrdspnry Cmpt Cpst\n",
      "7 Software Engineering II\n",
      "7 Intro Informatn&Cmptr Security\n"
     ]
    }
   ],
   "source": [
    "res = get_schedule(courses)\n",
    "counter = 0\n",
    "for s in res:\n",
    "    for i in range(min(len(s),5)):\n",
    "        print(str(counter) +\" \" + s[i]['full_name'])\n",
    "    counter += 1"
   ]
  },
  {
   "cell_type": "code",
   "execution_count": 89,
   "metadata": {},
   "outputs": [
    {
     "data": {
      "text/plain": [
       "33"
      ]
     },
     "execution_count": 89,
     "metadata": {},
     "output_type": "execute_result"
    }
   ],
   "source": [
    "len(res[7])"
   ]
  }
 ],
 "metadata": {
  "kernelspec": {
   "display_name": "venv",
   "language": "python",
   "name": "python3"
  },
  "language_info": {
   "codemirror_mode": {
    "name": "ipython",
    "version": 3
   },
   "file_extension": ".py",
   "mimetype": "text/x-python",
   "name": "python",
   "nbconvert_exporter": "python",
   "pygments_lexer": "ipython3",
   "version": "3.10.2"
  },
  "orig_nbformat": 4
 },
 "nbformat": 4,
 "nbformat_minor": 2
}
